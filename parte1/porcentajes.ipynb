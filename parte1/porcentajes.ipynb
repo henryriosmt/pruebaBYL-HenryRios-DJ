{
 "cells": [
  {
   "cell_type": "code",
   "execution_count": 2,
   "metadata": {},
   "outputs": [
    {
     "name": "stdout",
     "output_type": "stream",
     "text": [
      "   tipo  Porcentaje A  Porcentaje B  Porcentaje C  Porcentaje D  TOTAL\n",
      "0     1          0.19          0.25          0.33          0.23     52\n",
      "1     2          0.28          0.17          0.39          0.16     69\n",
      "2     3          0.35          0.09          0.47          0.10    144\n",
      "3     4          0.13          0.02          0.74          0.12   1043\n"
     ]
    }
   ],
   "source": [
    "import pandas as pd\n",
    "\n",
    "df = pd.read_csv(\"datos.csv\")\n",
    "\n",
    "columnas = ['tipo','Porcentaje A','Porcentaje B','Porcentaje C','Porcentaje D','TOTAL']\n",
    "\n",
    "t1 = []\n",
    "t2 = []\n",
    "t3 = []\n",
    "t4 = []\n",
    "\n",
    "for i in range(len(df)):\n",
    "    if (df.iloc[i,2] == 1):\n",
    "        t1.append((df.iloc[i,1]))\n",
    "    if (df.iloc[i,2] == 2):\n",
    "        t2.append((df.iloc[i,1]))\n",
    "    if (df.iloc[i,2] == 3):\n",
    "        t3.append((df.iloc[i,1]))\n",
    "    if (df.iloc[i,2] == 4):\n",
    "        t4.append((df.iloc[i,1]))\n",
    "\n",
    "tipo1 = [1]\n",
    "tipo2 = [2]\n",
    "tipo3 = [3]\n",
    "tipo4 = [4]\n",
    "\n",
    "for i in range(len(t1)):\n",
    "    tipo1.append(round(t1[i]/sum(t1),2))\n",
    "\n",
    "for i in range(len(t2)):\n",
    "    tipo2.append(round(t2[i]/sum(t2),2))\n",
    "\n",
    "for i in range(len(t3)):\n",
    "    tipo3.append(round(t3[i]/sum(t3),2))\n",
    "\n",
    "for i in range(len(t4)):\n",
    "    tipo4.append(round(t4[i]/sum(t4),2))\n",
    "\n",
    "\n",
    "tipo1.append(sum(t1))\n",
    "tipo2.append(sum(t2))\n",
    "tipo3.append(sum(t3))\n",
    "tipo4.append(sum(t4))\n",
    "\n",
    "dataArray = [tipo1,tipo2,tipo3,tipo4]\n",
    "\n",
    "dd = pd.DataFrame(dataArray, columns = columnas)\n",
    "\n",
    "print (dd)\n"
   ]
  }
 ],
 "metadata": {
  "interpreter": {
   "hash": "6a0627abd50bdd9d19b94196d5359ff24be91dbddf58dfc118d76c4c3dcef403"
  },
  "kernelspec": {
   "display_name": "Python 3.9.7 64-bit ('base': conda)",
   "language": "python",
   "name": "python3"
  },
  "language_info": {
   "codemirror_mode": {
    "name": "ipython",
    "version": 3
   },
   "file_extension": ".py",
   "mimetype": "text/x-python",
   "name": "python",
   "nbconvert_exporter": "python",
   "pygments_lexer": "ipython3",
   "version": "3.9.7"
  },
  "orig_nbformat": 4
 },
 "nbformat": 4,
 "nbformat_minor": 2
}
